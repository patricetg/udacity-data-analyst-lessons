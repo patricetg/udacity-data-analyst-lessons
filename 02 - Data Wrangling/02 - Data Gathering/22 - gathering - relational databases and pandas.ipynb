{
 "cells": [
  {
   "cell_type": "markdown",
   "metadata": {},
   "source": [
    "## Relational Databases and pandas"
   ]
  },
  {
   "cell_type": "code",
   "execution_count": 1,
   "metadata": {},
   "outputs": [],
   "source": [
    "import pandas as pd"
   ]
  },
  {
   "cell_type": "code",
   "execution_count": 2,
   "metadata": {},
   "outputs": [],
   "source": [
    "###"
   ]
  },
  {
   "cell_type": "markdown",
   "metadata": {},
   "source": [
    "Imagine this notebook contains all of the gathering code from this entire lesson, plus the assessing and cleaning code done behind the scenes, and that the final product is a merged master DataFrame called *df*."
   ]
  },
  {
   "cell_type": "code",
   "execution_count": 3,
   "metadata": {},
   "outputs": [],
   "source": [
    "df = pd.read_csv('bestofrt_master.csv')"
   ]
  },
  {
   "cell_type": "code",
   "execution_count": 4,
   "metadata": {},
   "outputs": [
    {
     "data": {
      "text/html": [
       "<div>\n",
       "<style scoped>\n",
       "    .dataframe tbody tr th:only-of-type {\n",
       "        vertical-align: middle;\n",
       "    }\n",
       "\n",
       "    .dataframe tbody tr th {\n",
       "        vertical-align: top;\n",
       "    }\n",
       "\n",
       "    .dataframe thead th {\n",
       "        text-align: right;\n",
       "    }\n",
       "</style>\n",
       "<table border=\"1\" class=\"dataframe\">\n",
       "  <thead>\n",
       "    <tr style=\"text-align: right;\">\n",
       "      <th></th>\n",
       "      <th>0</th>\n",
       "      <th>1</th>\n",
       "      <th>2</th>\n",
       "    </tr>\n",
       "  </thead>\n",
       "  <tbody>\n",
       "    <tr>\n",
       "      <th>ranking</th>\n",
       "      <td>1</td>\n",
       "      <td>2</td>\n",
       "      <td>3</td>\n",
       "    </tr>\n",
       "    <tr>\n",
       "      <th>title</th>\n",
       "      <td>The Wizard of Oz (1939)</td>\n",
       "      <td>Citizen Kane (1941)</td>\n",
       "      <td>The Third Man (1949)</td>\n",
       "    </tr>\n",
       "    <tr>\n",
       "      <th>critic_score</th>\n",
       "      <td>99</td>\n",
       "      <td>100</td>\n",
       "      <td>100</td>\n",
       "    </tr>\n",
       "    <tr>\n",
       "      <th>number_of_critic_ratings</th>\n",
       "      <td>110</td>\n",
       "      <td>75</td>\n",
       "      <td>77</td>\n",
       "    </tr>\n",
       "    <tr>\n",
       "      <th>audience_score</th>\n",
       "      <td>89</td>\n",
       "      <td>90</td>\n",
       "      <td>93</td>\n",
       "    </tr>\n",
       "    <tr>\n",
       "      <th>number_of_audience_ratings</th>\n",
       "      <td>874425</td>\n",
       "      <td>157274</td>\n",
       "      <td>53081</td>\n",
       "    </tr>\n",
       "    <tr>\n",
       "      <th>review_url</th>\n",
       "      <td>http://www.rogerebert.com/reviews/great-movie-...</td>\n",
       "      <td>http://www.rogerebert.com/reviews/great-movie-...</td>\n",
       "      <td>http://www.rogerebert.com/reviews/great-movie-...</td>\n",
       "    </tr>\n",
       "    <tr>\n",
       "      <th>review_text</th>\n",
       "      <td>As a child I simply did not notice whether a m...</td>\n",
       "      <td>“I don't think any word can explain a man's li...</td>\n",
       "      <td>Has there ever been a film where the music mor...</td>\n",
       "    </tr>\n",
       "    <tr>\n",
       "      <th>poster_url</th>\n",
       "      <td>https://upload.wikimedia.org/wikipedia/commons...</td>\n",
       "      <td>https://upload.wikimedia.org/wikipedia/en/c/ce...</td>\n",
       "      <td>https://upload.wikimedia.org/wikipedia/en/2/21...</td>\n",
       "    </tr>\n",
       "  </tbody>\n",
       "</table>\n",
       "</div>"
      ],
      "text/plain": [
       "                                                                            0  \\\n",
       "ranking                                                                     1   \n",
       "title                                                 The Wizard of Oz (1939)   \n",
       "critic_score                                                               99   \n",
       "number_of_critic_ratings                                                  110   \n",
       "audience_score                                                             89   \n",
       "number_of_audience_ratings                                             874425   \n",
       "review_url                  http://www.rogerebert.com/reviews/great-movie-...   \n",
       "review_text                 As a child I simply did not notice whether a m...   \n",
       "poster_url                  https://upload.wikimedia.org/wikipedia/commons...   \n",
       "\n",
       "                                                                            1  \\\n",
       "ranking                                                                     2   \n",
       "title                                                     Citizen Kane (1941)   \n",
       "critic_score                                                              100   \n",
       "number_of_critic_ratings                                                   75   \n",
       "audience_score                                                             90   \n",
       "number_of_audience_ratings                                             157274   \n",
       "review_url                  http://www.rogerebert.com/reviews/great-movie-...   \n",
       "review_text                 “I don't think any word can explain a man's li...   \n",
       "poster_url                  https://upload.wikimedia.org/wikipedia/en/c/ce...   \n",
       "\n",
       "                                                                            2  \n",
       "ranking                                                                     3  \n",
       "title                                                    The Third Man (1949)  \n",
       "critic_score                                                              100  \n",
       "number_of_critic_ratings                                                   77  \n",
       "audience_score                                                             93  \n",
       "number_of_audience_ratings                                              53081  \n",
       "review_url                  http://www.rogerebert.com/reviews/great-movie-...  \n",
       "review_text                 Has there ever been a film where the music mor...  \n",
       "poster_url                  https://upload.wikimedia.org/wikipedia/en/2/21...  "
      ]
     },
     "execution_count": 4,
     "metadata": {},
     "output_type": "execute_result"
    }
   ],
   "source": [
    "df.head(3).T"
   ]
  },
  {
   "cell_type": "code",
   "execution_count": 5,
   "metadata": {},
   "outputs": [],
   "source": [
    "###"
   ]
  },
  {
   "cell_type": "markdown",
   "metadata": {},
   "source": [
    "### 1. Connect to a database"
   ]
  },
  {
   "cell_type": "code",
   "execution_count": 6,
   "metadata": {},
   "outputs": [],
   "source": [
    "from sqlalchemy import create_engine"
   ]
  },
  {
   "cell_type": "code",
   "execution_count": 7,
   "metadata": {},
   "outputs": [],
   "source": [
    "# Create SQLAlchemy Engine and empty bestofrt database\n",
    "# bestofrt.db will not show up in the Jupyter Notebook dashboard yet\n",
    "engine = create_engine('sqlite:///bestofrt.db')"
   ]
  },
  {
   "cell_type": "markdown",
   "metadata": {},
   "source": [
    "### 2. Store pandas DataFrame in database\n",
    "Store the data in the cleaned master dataset (bestofrt_master) in that database."
   ]
  },
  {
   "cell_type": "code",
   "execution_count": 8,
   "metadata": {},
   "outputs": [],
   "source": [
    "# Store cleaned master DataFrame ('df') in a table called master in bestofrt.db\n",
    "# bestofrt.db will be visible now in the Jupyter Notebook dashboard\n",
    "df.to_sql('master', engine, index=False)"
   ]
  },
  {
   "cell_type": "markdown",
   "metadata": {},
   "source": [
    "### 3. Read database data into a pandas DataFrame\n",
    "Read the brand new data in that database back into a pandas DataFrame."
   ]
  },
  {
   "cell_type": "code",
   "execution_count": 9,
   "metadata": {},
   "outputs": [],
   "source": [
    "df_gather = pd.read_sql('SELECT * FROM master', engine)"
   ]
  },
  {
   "cell_type": "code",
   "execution_count": 10,
   "metadata": {},
   "outputs": [
    {
     "data": {
      "text/html": [
       "<div>\n",
       "<style scoped>\n",
       "    .dataframe tbody tr th:only-of-type {\n",
       "        vertical-align: middle;\n",
       "    }\n",
       "\n",
       "    .dataframe tbody tr th {\n",
       "        vertical-align: top;\n",
       "    }\n",
       "\n",
       "    .dataframe thead th {\n",
       "        text-align: right;\n",
       "    }\n",
       "</style>\n",
       "<table border=\"1\" class=\"dataframe\">\n",
       "  <thead>\n",
       "    <tr style=\"text-align: right;\">\n",
       "      <th></th>\n",
       "      <th>0</th>\n",
       "      <th>1</th>\n",
       "      <th>2</th>\n",
       "    </tr>\n",
       "  </thead>\n",
       "  <tbody>\n",
       "    <tr>\n",
       "      <th>ranking</th>\n",
       "      <td>1</td>\n",
       "      <td>2</td>\n",
       "      <td>3</td>\n",
       "    </tr>\n",
       "    <tr>\n",
       "      <th>title</th>\n",
       "      <td>The Wizard of Oz (1939)</td>\n",
       "      <td>Citizen Kane (1941)</td>\n",
       "      <td>The Third Man (1949)</td>\n",
       "    </tr>\n",
       "    <tr>\n",
       "      <th>critic_score</th>\n",
       "      <td>99</td>\n",
       "      <td>100</td>\n",
       "      <td>100</td>\n",
       "    </tr>\n",
       "    <tr>\n",
       "      <th>number_of_critic_ratings</th>\n",
       "      <td>110</td>\n",
       "      <td>75</td>\n",
       "      <td>77</td>\n",
       "    </tr>\n",
       "    <tr>\n",
       "      <th>audience_score</th>\n",
       "      <td>89</td>\n",
       "      <td>90</td>\n",
       "      <td>93</td>\n",
       "    </tr>\n",
       "    <tr>\n",
       "      <th>number_of_audience_ratings</th>\n",
       "      <td>874425</td>\n",
       "      <td>157274</td>\n",
       "      <td>53081</td>\n",
       "    </tr>\n",
       "    <tr>\n",
       "      <th>review_url</th>\n",
       "      <td>http://www.rogerebert.com/reviews/great-movie-...</td>\n",
       "      <td>http://www.rogerebert.com/reviews/great-movie-...</td>\n",
       "      <td>http://www.rogerebert.com/reviews/great-movie-...</td>\n",
       "    </tr>\n",
       "    <tr>\n",
       "      <th>review_text</th>\n",
       "      <td>As a child I simply did not notice whether a m...</td>\n",
       "      <td>“I don't think any word can explain a man's li...</td>\n",
       "      <td>Has there ever been a film where the music mor...</td>\n",
       "    </tr>\n",
       "    <tr>\n",
       "      <th>poster_url</th>\n",
       "      <td>https://upload.wikimedia.org/wikipedia/commons...</td>\n",
       "      <td>https://upload.wikimedia.org/wikipedia/en/c/ce...</td>\n",
       "      <td>https://upload.wikimedia.org/wikipedia/en/2/21...</td>\n",
       "    </tr>\n",
       "  </tbody>\n",
       "</table>\n",
       "</div>"
      ],
      "text/plain": [
       "                                                                            0  \\\n",
       "ranking                                                                     1   \n",
       "title                                                 The Wizard of Oz (1939)   \n",
       "critic_score                                                               99   \n",
       "number_of_critic_ratings                                                  110   \n",
       "audience_score                                                             89   \n",
       "number_of_audience_ratings                                             874425   \n",
       "review_url                  http://www.rogerebert.com/reviews/great-movie-...   \n",
       "review_text                 As a child I simply did not notice whether a m...   \n",
       "poster_url                  https://upload.wikimedia.org/wikipedia/commons...   \n",
       "\n",
       "                                                                            1  \\\n",
       "ranking                                                                     2   \n",
       "title                                                     Citizen Kane (1941)   \n",
       "critic_score                                                              100   \n",
       "number_of_critic_ratings                                                   75   \n",
       "audience_score                                                             90   \n",
       "number_of_audience_ratings                                             157274   \n",
       "review_url                  http://www.rogerebert.com/reviews/great-movie-...   \n",
       "review_text                 “I don't think any word can explain a man's li...   \n",
       "poster_url                  https://upload.wikimedia.org/wikipedia/en/c/ce...   \n",
       "\n",
       "                                                                            2  \n",
       "ranking                                                                     3  \n",
       "title                                                    The Third Man (1949)  \n",
       "critic_score                                                              100  \n",
       "number_of_critic_ratings                                                   77  \n",
       "audience_score                                                             93  \n",
       "number_of_audience_ratings                                              53081  \n",
       "review_url                  http://www.rogerebert.com/reviews/great-movie-...  \n",
       "review_text                 Has there ever been a film where the music mor...  \n",
       "poster_url                  https://upload.wikimedia.org/wikipedia/en/2/21...  "
      ]
     },
     "execution_count": 10,
     "metadata": {},
     "output_type": "execute_result"
    }
   ],
   "source": [
    "df_gather.head(3).T"
   ]
  },
  {
   "cell_type": "code",
   "execution_count": null,
   "metadata": {},
   "outputs": [],
   "source": []
  }
 ],
 "metadata": {
  "kernelspec": {
   "display_name": "Python 3",
   "language": "python",
   "name": "python3"
  },
  "language_info": {
   "codemirror_mode": {
    "name": "ipython",
    "version": 3
   },
   "file_extension": ".py",
   "mimetype": "text/x-python",
   "name": "python",
   "nbconvert_exporter": "python",
   "pygments_lexer": "ipython3",
   "version": "3.6.3"
  }
 },
 "nbformat": 4,
 "nbformat_minor": 2
}
