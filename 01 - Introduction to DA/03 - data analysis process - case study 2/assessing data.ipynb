{
 "cells": [
  {
   "cell_type": "markdown",
   "metadata": {
    "collapsed": true
   },
   "source": [
    "# Assessing\n",
    "Use the space below to explore `all_alpha_08.csv` and `all_alpha_18.csv` to answer the quiz questions below.\n",
    "\n",
    "* number of samples in each dataset\n",
    "* number of columns in each dataset\n",
    "* duplicate rows in each dataset\n",
    "* datatypes of columns\n",
    "* features with missing values\n",
    "* number of non-null unique values for features in each dataset\n",
    "* what those unique values are and counts for each"
   ]
  },
  {
   "cell_type": "code",
   "execution_count": 1,
   "metadata": {},
   "outputs": [],
   "source": [
    "import pandas as pd"
   ]
  },
  {
   "cell_type": "code",
   "execution_count": null,
   "metadata": {},
   "outputs": [],
   "source": []
  },
  {
   "cell_type": "code",
   "execution_count": 2,
   "metadata": {},
   "outputs": [
    {
     "data": {
      "text/html": [
       "<div>\n",
       "<style scoped>\n",
       "    .dataframe tbody tr th:only-of-type {\n",
       "        vertical-align: middle;\n",
       "    }\n",
       "\n",
       "    .dataframe tbody tr th {\n",
       "        vertical-align: top;\n",
       "    }\n",
       "\n",
       "    .dataframe thead th {\n",
       "        text-align: right;\n",
       "    }\n",
       "</style>\n",
       "<table border=\"1\" class=\"dataframe\">\n",
       "  <thead>\n",
       "    <tr style=\"text-align: right;\">\n",
       "      <th></th>\n",
       "      <th>0</th>\n",
       "      <th>1</th>\n",
       "      <th>2</th>\n",
       "      <th>3</th>\n",
       "      <th>4</th>\n",
       "    </tr>\n",
       "  </thead>\n",
       "  <tbody>\n",
       "    <tr>\n",
       "      <th>Model</th>\n",
       "      <td>ACURA MDX</td>\n",
       "      <td>ACURA MDX</td>\n",
       "      <td>ACURA RDX</td>\n",
       "      <td>ACURA RDX</td>\n",
       "      <td>ACURA RL</td>\n",
       "    </tr>\n",
       "    <tr>\n",
       "      <th>Displ</th>\n",
       "      <td>3.7</td>\n",
       "      <td>3.7</td>\n",
       "      <td>2.3</td>\n",
       "      <td>2.3</td>\n",
       "      <td>3.5</td>\n",
       "    </tr>\n",
       "    <tr>\n",
       "      <th>Cyl</th>\n",
       "      <td>(6 cyl)</td>\n",
       "      <td>(6 cyl)</td>\n",
       "      <td>(4 cyl)</td>\n",
       "      <td>(4 cyl)</td>\n",
       "      <td>(6 cyl)</td>\n",
       "    </tr>\n",
       "    <tr>\n",
       "      <th>Trans</th>\n",
       "      <td>Auto-S5</td>\n",
       "      <td>Auto-S5</td>\n",
       "      <td>Auto-S5</td>\n",
       "      <td>Auto-S5</td>\n",
       "      <td>Auto-S5</td>\n",
       "    </tr>\n",
       "    <tr>\n",
       "      <th>Drive</th>\n",
       "      <td>4WD</td>\n",
       "      <td>4WD</td>\n",
       "      <td>4WD</td>\n",
       "      <td>4WD</td>\n",
       "      <td>4WD</td>\n",
       "    </tr>\n",
       "    <tr>\n",
       "      <th>Fuel</th>\n",
       "      <td>Gasoline</td>\n",
       "      <td>Gasoline</td>\n",
       "      <td>Gasoline</td>\n",
       "      <td>Gasoline</td>\n",
       "      <td>Gasoline</td>\n",
       "    </tr>\n",
       "    <tr>\n",
       "      <th>Sales Area</th>\n",
       "      <td>CA</td>\n",
       "      <td>FA</td>\n",
       "      <td>CA</td>\n",
       "      <td>FA</td>\n",
       "      <td>CA</td>\n",
       "    </tr>\n",
       "    <tr>\n",
       "      <th>Stnd</th>\n",
       "      <td>U2</td>\n",
       "      <td>B5</td>\n",
       "      <td>U2</td>\n",
       "      <td>B5</td>\n",
       "      <td>U2</td>\n",
       "    </tr>\n",
       "    <tr>\n",
       "      <th>Underhood ID</th>\n",
       "      <td>8HNXT03.7PKR</td>\n",
       "      <td>8HNXT03.7PKR</td>\n",
       "      <td>8HNXT02.3DKR</td>\n",
       "      <td>8HNXT02.3DKR</td>\n",
       "      <td>8HNXV03.5HKR</td>\n",
       "    </tr>\n",
       "    <tr>\n",
       "      <th>Veh Class</th>\n",
       "      <td>SUV</td>\n",
       "      <td>SUV</td>\n",
       "      <td>SUV</td>\n",
       "      <td>SUV</td>\n",
       "      <td>midsize car</td>\n",
       "    </tr>\n",
       "    <tr>\n",
       "      <th>Air Pollution Score</th>\n",
       "      <td>7</td>\n",
       "      <td>6</td>\n",
       "      <td>7</td>\n",
       "      <td>6</td>\n",
       "      <td>7</td>\n",
       "    </tr>\n",
       "    <tr>\n",
       "      <th>FE Calc Appr</th>\n",
       "      <td>Drv</td>\n",
       "      <td>Drv</td>\n",
       "      <td>Drv</td>\n",
       "      <td>Drv</td>\n",
       "      <td>Drv</td>\n",
       "    </tr>\n",
       "    <tr>\n",
       "      <th>City MPG</th>\n",
       "      <td>15</td>\n",
       "      <td>15</td>\n",
       "      <td>17</td>\n",
       "      <td>17</td>\n",
       "      <td>16</td>\n",
       "    </tr>\n",
       "    <tr>\n",
       "      <th>Hwy MPG</th>\n",
       "      <td>20</td>\n",
       "      <td>20</td>\n",
       "      <td>22</td>\n",
       "      <td>22</td>\n",
       "      <td>24</td>\n",
       "    </tr>\n",
       "    <tr>\n",
       "      <th>Cmb MPG</th>\n",
       "      <td>17</td>\n",
       "      <td>17</td>\n",
       "      <td>19</td>\n",
       "      <td>19</td>\n",
       "      <td>19</td>\n",
       "    </tr>\n",
       "    <tr>\n",
       "      <th>Unadj Cmb MPG</th>\n",
       "      <td>22.0527</td>\n",
       "      <td>22.0527</td>\n",
       "      <td>24.1745</td>\n",
       "      <td>24.1745</td>\n",
       "      <td>24.5629</td>\n",
       "    </tr>\n",
       "    <tr>\n",
       "      <th>Greenhouse Gas Score</th>\n",
       "      <td>4</td>\n",
       "      <td>4</td>\n",
       "      <td>5</td>\n",
       "      <td>5</td>\n",
       "      <td>5</td>\n",
       "    </tr>\n",
       "    <tr>\n",
       "      <th>SmartWay</th>\n",
       "      <td>no</td>\n",
       "      <td>no</td>\n",
       "      <td>no</td>\n",
       "      <td>no</td>\n",
       "      <td>no</td>\n",
       "    </tr>\n",
       "  </tbody>\n",
       "</table>\n",
       "</div>"
      ],
      "text/plain": [
       "                                 0             1             2             3  \\\n",
       "Model                    ACURA MDX     ACURA MDX     ACURA RDX     ACURA RDX   \n",
       "Displ                          3.7           3.7           2.3           2.3   \n",
       "Cyl                        (6 cyl)       (6 cyl)       (4 cyl)       (4 cyl)   \n",
       "Trans                      Auto-S5       Auto-S5       Auto-S5       Auto-S5   \n",
       "Drive                          4WD           4WD           4WD           4WD   \n",
       "Fuel                      Gasoline      Gasoline      Gasoline      Gasoline   \n",
       "Sales Area                      CA            FA            CA            FA   \n",
       "Stnd                            U2            B5            U2            B5   \n",
       "Underhood ID          8HNXT03.7PKR  8HNXT03.7PKR  8HNXT02.3DKR  8HNXT02.3DKR   \n",
       "Veh Class                      SUV           SUV           SUV           SUV   \n",
       "Air Pollution Score              7             6             7             6   \n",
       "FE Calc Appr                   Drv           Drv           Drv           Drv   \n",
       "City MPG                        15            15            17            17   \n",
       "Hwy MPG                         20            20            22            22   \n",
       "Cmb MPG                         17            17            19            19   \n",
       "Unadj Cmb MPG              22.0527       22.0527       24.1745       24.1745   \n",
       "Greenhouse Gas Score             4             4             5             5   \n",
       "SmartWay                        no            no            no            no   \n",
       "\n",
       "                                 4  \n",
       "Model                     ACURA RL  \n",
       "Displ                          3.5  \n",
       "Cyl                        (6 cyl)  \n",
       "Trans                      Auto-S5  \n",
       "Drive                          4WD  \n",
       "Fuel                      Gasoline  \n",
       "Sales Area                      CA  \n",
       "Stnd                            U2  \n",
       "Underhood ID          8HNXV03.5HKR  \n",
       "Veh Class              midsize car  \n",
       "Air Pollution Score              7  \n",
       "FE Calc Appr                   Drv  \n",
       "City MPG                        16  \n",
       "Hwy MPG                         24  \n",
       "Cmb MPG                         19  \n",
       "Unadj Cmb MPG              24.5629  \n",
       "Greenhouse Gas Score             5  \n",
       "SmartWay                        no  "
      ]
     },
     "execution_count": 2,
     "metadata": {},
     "output_type": "execute_result"
    }
   ],
   "source": [
    "alpha08_df = pd.read_csv(\"all_alpha_08.csv\")\n",
    "alpha08_df.head().T"
   ]
  },
  {
   "cell_type": "code",
   "execution_count": 3,
   "metadata": {},
   "outputs": [
    {
     "data": {
      "text/html": [
       "<div>\n",
       "<style scoped>\n",
       "    .dataframe tbody tr th:only-of-type {\n",
       "        vertical-align: middle;\n",
       "    }\n",
       "\n",
       "    .dataframe tbody tr th {\n",
       "        vertical-align: top;\n",
       "    }\n",
       "\n",
       "    .dataframe thead th {\n",
       "        text-align: right;\n",
       "    }\n",
       "</style>\n",
       "<table border=\"1\" class=\"dataframe\">\n",
       "  <thead>\n",
       "    <tr style=\"text-align: right;\">\n",
       "      <th></th>\n",
       "      <th>0</th>\n",
       "      <th>1</th>\n",
       "      <th>2</th>\n",
       "      <th>3</th>\n",
       "      <th>4</th>\n",
       "    </tr>\n",
       "  </thead>\n",
       "  <tbody>\n",
       "    <tr>\n",
       "      <th>Model</th>\n",
       "      <td>ACURA RDX</td>\n",
       "      <td>ACURA RDX</td>\n",
       "      <td>ACURA RDX</td>\n",
       "      <td>ACURA RDX</td>\n",
       "      <td>ACURA TLX</td>\n",
       "    </tr>\n",
       "    <tr>\n",
       "      <th>Displ</th>\n",
       "      <td>3.5</td>\n",
       "      <td>3.5</td>\n",
       "      <td>3.5</td>\n",
       "      <td>3.5</td>\n",
       "      <td>2.4</td>\n",
       "    </tr>\n",
       "    <tr>\n",
       "      <th>Cyl</th>\n",
       "      <td>6</td>\n",
       "      <td>6</td>\n",
       "      <td>6</td>\n",
       "      <td>6</td>\n",
       "      <td>4</td>\n",
       "    </tr>\n",
       "    <tr>\n",
       "      <th>Trans</th>\n",
       "      <td>SemiAuto-6</td>\n",
       "      <td>SemiAuto-6</td>\n",
       "      <td>SemiAuto-6</td>\n",
       "      <td>SemiAuto-6</td>\n",
       "      <td>AMS-8</td>\n",
       "    </tr>\n",
       "    <tr>\n",
       "      <th>Drive</th>\n",
       "      <td>2WD</td>\n",
       "      <td>2WD</td>\n",
       "      <td>4WD</td>\n",
       "      <td>4WD</td>\n",
       "      <td>2WD</td>\n",
       "    </tr>\n",
       "    <tr>\n",
       "      <th>Fuel</th>\n",
       "      <td>Gasoline</td>\n",
       "      <td>Gasoline</td>\n",
       "      <td>Gasoline</td>\n",
       "      <td>Gasoline</td>\n",
       "      <td>Gasoline</td>\n",
       "    </tr>\n",
       "    <tr>\n",
       "      <th>Cert Region</th>\n",
       "      <td>FA</td>\n",
       "      <td>CA</td>\n",
       "      <td>FA</td>\n",
       "      <td>CA</td>\n",
       "      <td>CA</td>\n",
       "    </tr>\n",
       "    <tr>\n",
       "      <th>Stnd</th>\n",
       "      <td>T3B125</td>\n",
       "      <td>U2</td>\n",
       "      <td>T3B125</td>\n",
       "      <td>U2</td>\n",
       "      <td>L3ULEV125</td>\n",
       "    </tr>\n",
       "    <tr>\n",
       "      <th>Stnd Description</th>\n",
       "      <td>Federal Tier 3 Bin 125</td>\n",
       "      <td>California LEV-II ULEV</td>\n",
       "      <td>Federal Tier 3 Bin 125</td>\n",
       "      <td>California LEV-II ULEV</td>\n",
       "      <td>California LEV-III ULEV125</td>\n",
       "    </tr>\n",
       "    <tr>\n",
       "      <th>Underhood ID</th>\n",
       "      <td>JHNXT03.5GV3</td>\n",
       "      <td>JHNXT03.5GV3</td>\n",
       "      <td>JHNXT03.5GV3</td>\n",
       "      <td>JHNXT03.5GV3</td>\n",
       "      <td>JHNXV02.4WH3</td>\n",
       "    </tr>\n",
       "    <tr>\n",
       "      <th>Veh Class</th>\n",
       "      <td>small SUV</td>\n",
       "      <td>small SUV</td>\n",
       "      <td>small SUV</td>\n",
       "      <td>small SUV</td>\n",
       "      <td>small car</td>\n",
       "    </tr>\n",
       "    <tr>\n",
       "      <th>Air Pollution Score</th>\n",
       "      <td>3</td>\n",
       "      <td>3</td>\n",
       "      <td>3</td>\n",
       "      <td>3</td>\n",
       "      <td>3</td>\n",
       "    </tr>\n",
       "    <tr>\n",
       "      <th>City MPG</th>\n",
       "      <td>20</td>\n",
       "      <td>20</td>\n",
       "      <td>19</td>\n",
       "      <td>19</td>\n",
       "      <td>23</td>\n",
       "    </tr>\n",
       "    <tr>\n",
       "      <th>Hwy MPG</th>\n",
       "      <td>28</td>\n",
       "      <td>28</td>\n",
       "      <td>27</td>\n",
       "      <td>27</td>\n",
       "      <td>33</td>\n",
       "    </tr>\n",
       "    <tr>\n",
       "      <th>Cmb MPG</th>\n",
       "      <td>23</td>\n",
       "      <td>23</td>\n",
       "      <td>22</td>\n",
       "      <td>22</td>\n",
       "      <td>27</td>\n",
       "    </tr>\n",
       "    <tr>\n",
       "      <th>Greenhouse Gas Score</th>\n",
       "      <td>5</td>\n",
       "      <td>5</td>\n",
       "      <td>4</td>\n",
       "      <td>4</td>\n",
       "      <td>6</td>\n",
       "    </tr>\n",
       "    <tr>\n",
       "      <th>SmartWay</th>\n",
       "      <td>No</td>\n",
       "      <td>No</td>\n",
       "      <td>No</td>\n",
       "      <td>No</td>\n",
       "      <td>No</td>\n",
       "    </tr>\n",
       "    <tr>\n",
       "      <th>Comb CO2</th>\n",
       "      <td>386</td>\n",
       "      <td>386</td>\n",
       "      <td>402</td>\n",
       "      <td>402</td>\n",
       "      <td>330</td>\n",
       "    </tr>\n",
       "  </tbody>\n",
       "</table>\n",
       "</div>"
      ],
      "text/plain": [
       "                                           0                       1  \\\n",
       "Model                              ACURA RDX               ACURA RDX   \n",
       "Displ                                    3.5                     3.5   \n",
       "Cyl                                        6                       6   \n",
       "Trans                             SemiAuto-6              SemiAuto-6   \n",
       "Drive                                    2WD                     2WD   \n",
       "Fuel                                Gasoline                Gasoline   \n",
       "Cert Region                               FA                      CA   \n",
       "Stnd                                  T3B125                      U2   \n",
       "Stnd Description      Federal Tier 3 Bin 125  California LEV-II ULEV   \n",
       "Underhood ID                    JHNXT03.5GV3            JHNXT03.5GV3   \n",
       "Veh Class                          small SUV               small SUV   \n",
       "Air Pollution Score                        3                       3   \n",
       "City MPG                                  20                      20   \n",
       "Hwy MPG                                   28                      28   \n",
       "Cmb MPG                                   23                      23   \n",
       "Greenhouse Gas Score                       5                       5   \n",
       "SmartWay                                  No                      No   \n",
       "Comb CO2                                 386                     386   \n",
       "\n",
       "                                           2                       3  \\\n",
       "Model                              ACURA RDX               ACURA RDX   \n",
       "Displ                                    3.5                     3.5   \n",
       "Cyl                                        6                       6   \n",
       "Trans                             SemiAuto-6              SemiAuto-6   \n",
       "Drive                                    4WD                     4WD   \n",
       "Fuel                                Gasoline                Gasoline   \n",
       "Cert Region                               FA                      CA   \n",
       "Stnd                                  T3B125                      U2   \n",
       "Stnd Description      Federal Tier 3 Bin 125  California LEV-II ULEV   \n",
       "Underhood ID                    JHNXT03.5GV3            JHNXT03.5GV3   \n",
       "Veh Class                          small SUV               small SUV   \n",
       "Air Pollution Score                        3                       3   \n",
       "City MPG                                  19                      19   \n",
       "Hwy MPG                                   27                      27   \n",
       "Cmb MPG                                   22                      22   \n",
       "Greenhouse Gas Score                       4                       4   \n",
       "SmartWay                                  No                      No   \n",
       "Comb CO2                                 402                     402   \n",
       "\n",
       "                                               4  \n",
       "Model                                  ACURA TLX  \n",
       "Displ                                        2.4  \n",
       "Cyl                                            4  \n",
       "Trans                                      AMS-8  \n",
       "Drive                                        2WD  \n",
       "Fuel                                    Gasoline  \n",
       "Cert Region                                   CA  \n",
       "Stnd                                   L3ULEV125  \n",
       "Stnd Description      California LEV-III ULEV125  \n",
       "Underhood ID                        JHNXV02.4WH3  \n",
       "Veh Class                              small car  \n",
       "Air Pollution Score                            3  \n",
       "City MPG                                      23  \n",
       "Hwy MPG                                       33  \n",
       "Cmb MPG                                       27  \n",
       "Greenhouse Gas Score                           6  \n",
       "SmartWay                                      No  \n",
       "Comb CO2                                     330  "
      ]
     },
     "execution_count": 3,
     "metadata": {},
     "output_type": "execute_result"
    }
   ],
   "source": [
    "alpha18_df = pd.read_csv(\"all_alpha_18.csv\")\n",
    "alpha18_df.head().T"
   ]
  },
  {
   "cell_type": "code",
   "execution_count": null,
   "metadata": {},
   "outputs": [],
   "source": []
  },
  {
   "cell_type": "code",
   "execution_count": 4,
   "metadata": {},
   "outputs": [
    {
     "data": {
      "text/plain": [
       "(2404, 18)"
      ]
     },
     "execution_count": 4,
     "metadata": {},
     "output_type": "execute_result"
    }
   ],
   "source": [
    "alpha08_df.shape"
   ]
  },
  {
   "cell_type": "code",
   "execution_count": 5,
   "metadata": {},
   "outputs": [
    {
     "data": {
      "text/plain": [
       "(1611, 18)"
      ]
     },
     "execution_count": 5,
     "metadata": {},
     "output_type": "execute_result"
    }
   ],
   "source": [
    "alpha18_df.shape"
   ]
  },
  {
   "cell_type": "code",
   "execution_count": null,
   "metadata": {},
   "outputs": [],
   "source": []
  },
  {
   "cell_type": "code",
   "execution_count": 6,
   "metadata": {},
   "outputs": [
    {
     "data": {
      "text/plain": [
       "25"
      ]
     },
     "execution_count": 6,
     "metadata": {},
     "output_type": "execute_result"
    }
   ],
   "source": [
    "alpha08_df.duplicated().sum()"
   ]
  },
  {
   "cell_type": "code",
   "execution_count": 7,
   "metadata": {},
   "outputs": [
    {
     "data": {
      "text/plain": [
       "0"
      ]
     },
     "execution_count": 7,
     "metadata": {},
     "output_type": "execute_result"
    }
   ],
   "source": [
    "alpha18_df.duplicated().sum()"
   ]
  },
  {
   "cell_type": "code",
   "execution_count": null,
   "metadata": {},
   "outputs": [],
   "source": []
  },
  {
   "cell_type": "code",
   "execution_count": 8,
   "metadata": {},
   "outputs": [
    {
     "name": "stdout",
     "output_type": "stream",
     "text": [
      "<class 'pandas.core.frame.DataFrame'>\n",
      "RangeIndex: 2404 entries, 0 to 2403\n",
      "Data columns (total 18 columns):\n",
      "Model                   2404 non-null object\n",
      "Displ                   2404 non-null float64\n",
      "Cyl                     2205 non-null object\n",
      "Trans                   2205 non-null object\n",
      "Drive                   2311 non-null object\n",
      "Fuel                    2404 non-null object\n",
      "Sales Area              2404 non-null object\n",
      "Stnd                    2404 non-null object\n",
      "Underhood ID            2404 non-null object\n",
      "Veh Class               2404 non-null object\n",
      "Air Pollution Score     2404 non-null object\n",
      "FE Calc Appr            2205 non-null object\n",
      "City MPG                2205 non-null object\n",
      "Hwy MPG                 2205 non-null object\n",
      "Cmb MPG                 2205 non-null object\n",
      "Unadj Cmb MPG           2205 non-null float64\n",
      "Greenhouse Gas Score    2205 non-null object\n",
      "SmartWay                2404 non-null object\n",
      "dtypes: float64(2), object(16)\n",
      "memory usage: 338.1+ KB\n"
     ]
    }
   ],
   "source": [
    "alpha08_df.info()"
   ]
  },
  {
   "cell_type": "code",
   "execution_count": 9,
   "metadata": {},
   "outputs": [
    {
     "name": "stdout",
     "output_type": "stream",
     "text": [
      "<class 'pandas.core.frame.DataFrame'>\n",
      "RangeIndex: 1611 entries, 0 to 1610\n",
      "Data columns (total 18 columns):\n",
      "Model                   1611 non-null object\n",
      "Displ                   1609 non-null float64\n",
      "Cyl                     1609 non-null float64\n",
      "Trans                   1611 non-null object\n",
      "Drive                   1611 non-null object\n",
      "Fuel                    1611 non-null object\n",
      "Cert Region             1611 non-null object\n",
      "Stnd                    1611 non-null object\n",
      "Stnd Description        1611 non-null object\n",
      "Underhood ID            1611 non-null object\n",
      "Veh Class               1611 non-null object\n",
      "Air Pollution Score     1611 non-null int64\n",
      "City MPG                1611 non-null object\n",
      "Hwy MPG                 1611 non-null object\n",
      "Cmb MPG                 1611 non-null object\n",
      "Greenhouse Gas Score    1611 non-null int64\n",
      "SmartWay                1611 non-null object\n",
      "Comb CO2                1611 non-null object\n",
      "dtypes: float64(2), int64(2), object(14)\n",
      "memory usage: 226.6+ KB\n"
     ]
    }
   ],
   "source": [
    "alpha18_df.info()"
   ]
  },
  {
   "cell_type": "code",
   "execution_count": null,
   "metadata": {},
   "outputs": [],
   "source": []
  },
  {
   "cell_type": "code",
   "execution_count": 10,
   "metadata": {},
   "outputs": [
    {
     "data": {
      "text/plain": [
       "Model                     0\n",
       "Displ                     0\n",
       "Cyl                     199\n",
       "Trans                   199\n",
       "Drive                    93\n",
       "Fuel                      0\n",
       "Sales Area                0\n",
       "Stnd                      0\n",
       "Underhood ID              0\n",
       "Veh Class                 0\n",
       "Air Pollution Score       0\n",
       "FE Calc Appr            199\n",
       "City MPG                199\n",
       "Hwy MPG                 199\n",
       "Cmb MPG                 199\n",
       "Unadj Cmb MPG           199\n",
       "Greenhouse Gas Score    199\n",
       "SmartWay                  0\n",
       "dtype: int64"
      ]
     },
     "execution_count": 10,
     "metadata": {},
     "output_type": "execute_result"
    }
   ],
   "source": [
    "alpha08_df.isnull().sum()"
   ]
  },
  {
   "cell_type": "code",
   "execution_count": 11,
   "metadata": {},
   "outputs": [
    {
     "data": {
      "text/plain": [
       "Model                   0\n",
       "Displ                   2\n",
       "Cyl                     2\n",
       "Trans                   0\n",
       "Drive                   0\n",
       "Fuel                    0\n",
       "Cert Region             0\n",
       "Stnd                    0\n",
       "Stnd Description        0\n",
       "Underhood ID            0\n",
       "Veh Class               0\n",
       "Air Pollution Score     0\n",
       "City MPG                0\n",
       "Hwy MPG                 0\n",
       "Cmb MPG                 0\n",
       "Greenhouse Gas Score    0\n",
       "SmartWay                0\n",
       "Comb CO2                0\n",
       "dtype: int64"
      ]
     },
     "execution_count": 11,
     "metadata": {},
     "output_type": "execute_result"
    }
   ],
   "source": [
    "alpha18_df.isnull().sum()"
   ]
  },
  {
   "cell_type": "code",
   "execution_count": null,
   "metadata": {},
   "outputs": [],
   "source": []
  },
  {
   "cell_type": "code",
   "execution_count": 12,
   "metadata": {},
   "outputs": [
    {
     "data": {
      "text/plain": [
       "Model                   436\n",
       "Displ                    47\n",
       "Cyl                       8\n",
       "Trans                    14\n",
       "Drive                     2\n",
       "Fuel                      5\n",
       "Sales Area                3\n",
       "Stnd                     12\n",
       "Underhood ID            343\n",
       "Veh Class                 9\n",
       "Air Pollution Score      13\n",
       "FE Calc Appr              2\n",
       "City MPG                 39\n",
       "Hwy MPG                  43\n",
       "Cmb MPG                  38\n",
       "Unadj Cmb MPG           721\n",
       "Greenhouse Gas Score     20\n",
       "SmartWay                  2\n",
       "dtype: int64"
      ]
     },
     "execution_count": 12,
     "metadata": {},
     "output_type": "execute_result"
    }
   ],
   "source": [
    "alpha08_df.nunique()"
   ]
  },
  {
   "cell_type": "code",
   "execution_count": 13,
   "metadata": {},
   "outputs": [
    {
     "data": {
      "text/plain": [
       "Model                   367\n",
       "Displ                    36\n",
       "Cyl                       7\n",
       "Trans                    26\n",
       "Drive                     2\n",
       "Fuel                      5\n",
       "Cert Region               2\n",
       "Stnd                     19\n",
       "Stnd Description         19\n",
       "Underhood ID            230\n",
       "Veh Class                 9\n",
       "Air Pollution Score       6\n",
       "City MPG                 58\n",
       "Hwy MPG                  62\n",
       "Cmb MPG                  57\n",
       "Greenhouse Gas Score     10\n",
       "SmartWay                  3\n",
       "Comb CO2                299\n",
       "dtype: int64"
      ]
     },
     "execution_count": 13,
     "metadata": {},
     "output_type": "execute_result"
    }
   ],
   "source": [
    "alpha18_df.nunique()"
   ]
  },
  {
   "cell_type": "code",
   "execution_count": null,
   "metadata": {},
   "outputs": [],
   "source": []
  },
  {
   "cell_type": "code",
   "execution_count": 14,
   "metadata": {},
   "outputs": [
    {
     "data": {
      "text/plain": [
       "array(['Gasoline', 'ethanol/gas', 'ethanol', 'diesel', 'CNG'], dtype=object)"
      ]
     },
     "execution_count": 14,
     "metadata": {},
     "output_type": "execute_result"
    }
   ],
   "source": [
    "alpha08_df[\"Fuel\"].unique()"
   ]
  },
  {
   "cell_type": "code",
   "execution_count": 15,
   "metadata": {},
   "outputs": [
    {
     "data": {
      "text/plain": [
       "array(['Gasoline', 'Gasoline/Electricity', 'Diesel', 'Ethanol/Gas',\n",
       "       'Electricity'], dtype=object)"
      ]
     },
     "execution_count": 15,
     "metadata": {},
     "output_type": "execute_result"
    }
   ],
   "source": [
    "alpha18_df[\"Fuel\"].unique()"
   ]
  },
  {
   "cell_type": "code",
   "execution_count": null,
   "metadata": {},
   "outputs": [],
   "source": []
  }
 ],
 "metadata": {
  "kernelspec": {
   "display_name": "Python 3",
   "language": "python",
   "name": "python3"
  },
  "language_info": {
   "codemirror_mode": {
    "name": "ipython",
    "version": 3
   },
   "file_extension": ".py",
   "mimetype": "text/x-python",
   "name": "python",
   "nbconvert_exporter": "python",
   "pygments_lexer": "ipython3",
   "version": "3.6.3"
  }
 },
 "nbformat": 4,
 "nbformat_minor": 2
}
