{
 "cells": [
  {
   "cell_type": "code",
   "execution_count": 1,
   "metadata": {},
   "outputs": [],
   "source": [
    "# prerequisite package imports\n",
    "import numpy as np\n",
    "import pandas as pd\n",
    "import matplotlib.pyplot as plt\n",
    "import seaborn as sb\n",
    "\n",
    "%matplotlib inline\n",
    "\n",
    "from solutions_biv import scatterplot_solution_1, scatterplot_solution_2"
   ]
  },
  {
   "cell_type": "markdown",
   "metadata": {},
   "source": [
    "In this workspace, you'll make use of this data set describing various car attributes, such as fuel efficiency. The cars in this dataset represent about 3900 sedans tested by the EPA from 2013 to 2018. This dataset is a trimmed-down version of the data found [here](https://catalog.data.gov/dataset/fuel-economy-data)."
   ]
  },
  {
   "cell_type": "code",
   "execution_count": 2,
   "metadata": {},
   "outputs": [
    {
     "data": {
      "text/html": [
       "<div>\n",
       "<style scoped>\n",
       "    .dataframe tbody tr th:only-of-type {\n",
       "        vertical-align: middle;\n",
       "    }\n",
       "\n",
       "    .dataframe tbody tr th {\n",
       "        vertical-align: top;\n",
       "    }\n",
       "\n",
       "    .dataframe thead th {\n",
       "        text-align: right;\n",
       "    }\n",
       "</style>\n",
       "<table border=\"1\" class=\"dataframe\">\n",
       "  <thead>\n",
       "    <tr style=\"text-align: right;\">\n",
       "      <th></th>\n",
       "      <th>0</th>\n",
       "      <th>1</th>\n",
       "      <th>2</th>\n",
       "      <th>3</th>\n",
       "      <th>4</th>\n",
       "    </tr>\n",
       "  </thead>\n",
       "  <tbody>\n",
       "    <tr>\n",
       "      <th>id</th>\n",
       "      <td>32204</td>\n",
       "      <td>32205</td>\n",
       "      <td>32206</td>\n",
       "      <td>32207</td>\n",
       "      <td>32208</td>\n",
       "    </tr>\n",
       "    <tr>\n",
       "      <th>make</th>\n",
       "      <td>Nissan</td>\n",
       "      <td>Volkswagen</td>\n",
       "      <td>Volkswagen</td>\n",
       "      <td>Volkswagen</td>\n",
       "      <td>Chevrolet</td>\n",
       "    </tr>\n",
       "    <tr>\n",
       "      <th>model</th>\n",
       "      <td>GT-R</td>\n",
       "      <td>CC</td>\n",
       "      <td>CC</td>\n",
       "      <td>CC 4motion</td>\n",
       "      <td>Malibu eAssist</td>\n",
       "    </tr>\n",
       "    <tr>\n",
       "      <th>year</th>\n",
       "      <td>2013</td>\n",
       "      <td>2013</td>\n",
       "      <td>2013</td>\n",
       "      <td>2013</td>\n",
       "      <td>2013</td>\n",
       "    </tr>\n",
       "    <tr>\n",
       "      <th>VClass</th>\n",
       "      <td>Subcompact Cars</td>\n",
       "      <td>Compact Cars</td>\n",
       "      <td>Compact Cars</td>\n",
       "      <td>Compact Cars</td>\n",
       "      <td>Midsize Cars</td>\n",
       "    </tr>\n",
       "    <tr>\n",
       "      <th>drive</th>\n",
       "      <td>All-Wheel Drive</td>\n",
       "      <td>Front-Wheel Drive</td>\n",
       "      <td>Front-Wheel Drive</td>\n",
       "      <td>All-Wheel Drive</td>\n",
       "      <td>Front-Wheel Drive</td>\n",
       "    </tr>\n",
       "    <tr>\n",
       "      <th>trans</th>\n",
       "      <td>Automatic (AM6)</td>\n",
       "      <td>Automatic (AM-S6)</td>\n",
       "      <td>Automatic (S6)</td>\n",
       "      <td>Automatic (S6)</td>\n",
       "      <td>Automatic (S6)</td>\n",
       "    </tr>\n",
       "    <tr>\n",
       "      <th>fuelType</th>\n",
       "      <td>Premium Gasoline</td>\n",
       "      <td>Premium Gasoline</td>\n",
       "      <td>Premium Gasoline</td>\n",
       "      <td>Premium Gasoline</td>\n",
       "      <td>Regular Gasoline</td>\n",
       "    </tr>\n",
       "    <tr>\n",
       "      <th>cylinders</th>\n",
       "      <td>6</td>\n",
       "      <td>4</td>\n",
       "      <td>6</td>\n",
       "      <td>6</td>\n",
       "      <td>4</td>\n",
       "    </tr>\n",
       "    <tr>\n",
       "      <th>displ</th>\n",
       "      <td>3.8</td>\n",
       "      <td>2</td>\n",
       "      <td>3.6</td>\n",
       "      <td>3.6</td>\n",
       "      <td>2.4</td>\n",
       "    </tr>\n",
       "    <tr>\n",
       "      <th>pv2</th>\n",
       "      <td>79</td>\n",
       "      <td>94</td>\n",
       "      <td>94</td>\n",
       "      <td>94</td>\n",
       "      <td>0</td>\n",
       "    </tr>\n",
       "    <tr>\n",
       "      <th>pv4</th>\n",
       "      <td>0</td>\n",
       "      <td>0</td>\n",
       "      <td>0</td>\n",
       "      <td>0</td>\n",
       "      <td>95</td>\n",
       "    </tr>\n",
       "    <tr>\n",
       "      <th>city</th>\n",
       "      <td>16.4596</td>\n",
       "      <td>21.8706</td>\n",
       "      <td>17.4935</td>\n",
       "      <td>16.9415</td>\n",
       "      <td>24.7726</td>\n",
       "    </tr>\n",
       "    <tr>\n",
       "      <th>UCity</th>\n",
       "      <td>20.2988</td>\n",
       "      <td>26.977</td>\n",
       "      <td>21.2</td>\n",
       "      <td>20.5</td>\n",
       "      <td>31.9796</td>\n",
       "    </tr>\n",
       "    <tr>\n",
       "      <th>highway</th>\n",
       "      <td>22.5568</td>\n",
       "      <td>31.0367</td>\n",
       "      <td>26.5716</td>\n",
       "      <td>25.219</td>\n",
       "      <td>35.534</td>\n",
       "    </tr>\n",
       "    <tr>\n",
       "      <th>UHighway</th>\n",
       "      <td>30.1798</td>\n",
       "      <td>42.4936</td>\n",
       "      <td>35.1</td>\n",
       "      <td>33.5</td>\n",
       "      <td>51.8816</td>\n",
       "    </tr>\n",
       "    <tr>\n",
       "      <th>comb</th>\n",
       "      <td>18.7389</td>\n",
       "      <td>25.2227</td>\n",
       "      <td>20.6716</td>\n",
       "      <td>19.8774</td>\n",
       "      <td>28.6813</td>\n",
       "    </tr>\n",
       "    <tr>\n",
       "      <th>co2</th>\n",
       "      <td>471</td>\n",
       "      <td>349</td>\n",
       "      <td>429</td>\n",
       "      <td>446</td>\n",
       "      <td>310</td>\n",
       "    </tr>\n",
       "    <tr>\n",
       "      <th>feScore</th>\n",
       "      <td>4</td>\n",
       "      <td>6</td>\n",
       "      <td>5</td>\n",
       "      <td>5</td>\n",
       "      <td>8</td>\n",
       "    </tr>\n",
       "    <tr>\n",
       "      <th>ghgScore</th>\n",
       "      <td>4</td>\n",
       "      <td>6</td>\n",
       "      <td>5</td>\n",
       "      <td>5</td>\n",
       "      <td>8</td>\n",
       "    </tr>\n",
       "  </tbody>\n",
       "</table>\n",
       "</div>"
      ],
      "text/plain": [
       "                          0                  1                  2  \\\n",
       "id                    32204              32205              32206   \n",
       "make                 Nissan         Volkswagen         Volkswagen   \n",
       "model                  GT-R                 CC                 CC   \n",
       "year                   2013               2013               2013   \n",
       "VClass      Subcompact Cars       Compact Cars       Compact Cars   \n",
       "drive       All-Wheel Drive  Front-Wheel Drive  Front-Wheel Drive   \n",
       "trans       Automatic (AM6)  Automatic (AM-S6)     Automatic (S6)   \n",
       "fuelType   Premium Gasoline   Premium Gasoline   Premium Gasoline   \n",
       "cylinders                 6                  4                  6   \n",
       "displ                   3.8                  2                3.6   \n",
       "pv2                      79                 94                 94   \n",
       "pv4                       0                  0                  0   \n",
       "city                16.4596            21.8706            17.4935   \n",
       "UCity               20.2988             26.977               21.2   \n",
       "highway             22.5568            31.0367            26.5716   \n",
       "UHighway            30.1798            42.4936               35.1   \n",
       "comb                18.7389            25.2227            20.6716   \n",
       "co2                     471                349                429   \n",
       "feScore                   4                  6                  5   \n",
       "ghgScore                  4                  6                  5   \n",
       "\n",
       "                          3                  4  \n",
       "id                    32207              32208  \n",
       "make             Volkswagen          Chevrolet  \n",
       "model            CC 4motion     Malibu eAssist  \n",
       "year                   2013               2013  \n",
       "VClass         Compact Cars       Midsize Cars  \n",
       "drive       All-Wheel Drive  Front-Wheel Drive  \n",
       "trans        Automatic (S6)     Automatic (S6)  \n",
       "fuelType   Premium Gasoline   Regular Gasoline  \n",
       "cylinders                 6                  4  \n",
       "displ                   3.6                2.4  \n",
       "pv2                      94                  0  \n",
       "pv4                       0                 95  \n",
       "city                16.9415            24.7726  \n",
       "UCity                  20.5            31.9796  \n",
       "highway              25.219             35.534  \n",
       "UHighway               33.5            51.8816  \n",
       "comb                19.8774            28.6813  \n",
       "co2                     446                310  \n",
       "feScore                   5                  8  \n",
       "ghgScore                  5                  8  "
      ]
     },
     "execution_count": 2,
     "metadata": {},
     "output_type": "execute_result"
    }
   ],
   "source": [
    "fuel_econ = pd.read_csv('./data/fuel_econ.csv')\n",
    "fuel_econ.head().T"
   ]
  },
  {
   "cell_type": "markdown",
   "metadata": {},
   "source": [
    "### **TO DO 1**: \n",
    "Let's look at the relationship between fuel mileage ratings for city vs. highway driving, as stored in the 'city' and 'highway' variables (in miles per gallon, or mpg). **Use a _scatter plot_ to depict the data.**\n",
    "1. What is the general relationship between these variables? \n",
    "2. Are there any points that appear unusual against these trends?"
   ]
  },
  {
   "cell_type": "code",
   "execution_count": 3,
   "metadata": {},
   "outputs": [
    {
     "data": {
      "text/plain": [
       "Text(0,0.5,'Highway')"
      ]
     },
     "execution_count": 3,
     "metadata": {},
     "output_type": "execute_result"
    },
    {
     "data": {
      "image/png": "[encoded data removed]",
      "text/plain": [
       "<matplotlib.figure.Figure at 0x7f2e7f553940>"
      ]
     },
     "metadata": {
      "needs_background": "light"
     },
     "output_type": "display_data"
    }
   ],
   "source": [
    "# YOUR CODE HERE\n",
    "plt.scatter(data=fuel_econ,x=\"city\",y=\"highway\", alpha=1/5)\n",
    "plt.xlabel(\"City\")\n",
    "plt.ylabel(\"Highway\")"
   ]
  },
  {
   "cell_type": "markdown",
   "metadata": {},
   "source": [
    "### Expected Output"
   ]
  },
  {
   "cell_type": "code",
   "execution_count": 4,
   "metadata": {},
   "outputs": [
    {
     "name": "stdout",
     "output_type": "stream",
     "text": [
      "Most of the data falls in a large blob between 10 and 30 mpg city and 20 to 40 mpg highway. Some transparency is added via 'alpha' to show the concentration of data. Interestingly, for most cars highway mileage is clearly higher than city mileage, but for those cars with city mileage above about 30 mpg, the distinction is less pronounced. In fact, most cars above 45 mpg city have better city mileage than highway mileage, contrary to the main trend. It might be good to call out this trend by adding a diagonal line to the figure using the `plot` function. (See the solution file for that code!)\n"
     ]
    },
    {
     "data": {
      "image/png": "[encoded data removed]",
      "text/plain": [
       "<matplotlib.figure.Figure at 0x7f2e7f4fe748>"
      ]
     },
     "metadata": {
      "needs_background": "light"
     },
     "output_type": "display_data"
    }
   ],
   "source": [
    "# run this cell to check your work against ours\n",
    "scatterplot_solution_1()"
   ]
  },
  {
   "cell_type": "markdown",
   "metadata": {},
   "source": [
    "### **TO DO 2**: \n",
    "Let's look at the relationship between two other numeric variables. How does the engine size relate to a car's CO2 footprint? The 'displ' variable has the former (in liters), while the 'co2' variable has the latter (in grams per mile). **Use a heat map to depict the data.** How strong is this trend?"
   ]
  },
  {
   "cell_type": "code",
   "execution_count": 5,
   "metadata": {},
   "outputs": [],
   "source": [
    "# YOUR CODE HERE"
   ]
  },
  {
   "cell_type": "code",
   "execution_count": 6,
   "metadata": {},
   "outputs": [
    {
     "data": {
      "text/plain": [
       "<matplotlib.colorbar.Colorbar at 0x7f2e7d3767f0>"
      ]
     },
     "execution_count": 6,
     "metadata": {},
     "output_type": "execute_result"
    },
    {
     "data": {
      "image/png": "[encoded data removed]",
      "text/plain": [
       "<matplotlib.figure.Figure at 0x7f2ea870aeb8>"
      ]
     },
     "metadata": {
      "needs_background": "light"
     },
     "output_type": "display_data"
    }
   ],
   "source": [
    "plt.hist2d(data=fuel_econ,x=\"displ\",y=\"co2\", cmin=1, cmap=\"viridis_r\")\n",
    "plt.colorbar()\n",
    "#plt.set_cmap(\"hot\")"
   ]
  },
  {
   "cell_type": "code",
   "execution_count": 7,
   "metadata": {},
   "outputs": [
    {
     "data": {
      "text/html": [
       "<div>\n",
       "<style scoped>\n",
       "    .dataframe tbody tr th:only-of-type {\n",
       "        vertical-align: middle;\n",
       "    }\n",
       "\n",
       "    .dataframe tbody tr th {\n",
       "        vertical-align: top;\n",
       "    }\n",
       "\n",
       "    .dataframe thead th {\n",
       "        text-align: right;\n",
       "    }\n",
       "</style>\n",
       "<table border=\"1\" class=\"dataframe\">\n",
       "  <thead>\n",
       "    <tr style=\"text-align: right;\">\n",
       "      <th></th>\n",
       "      <th>displ</th>\n",
       "      <th>co2</th>\n",
       "    </tr>\n",
       "  </thead>\n",
       "  <tbody>\n",
       "    <tr>\n",
       "      <th>count</th>\n",
       "      <td>3929.000000</td>\n",
       "      <td>3929.000000</td>\n",
       "    </tr>\n",
       "    <tr>\n",
       "      <th>mean</th>\n",
       "      <td>2.950573</td>\n",
       "      <td>376.564266</td>\n",
       "    </tr>\n",
       "    <tr>\n",
       "      <th>std</th>\n",
       "      <td>1.305901</td>\n",
       "      <td>92.338892</td>\n",
       "    </tr>\n",
       "    <tr>\n",
       "      <th>min</th>\n",
       "      <td>0.600000</td>\n",
       "      <td>29.000000</td>\n",
       "    </tr>\n",
       "    <tr>\n",
       "      <th>25%</th>\n",
       "      <td>2.000000</td>\n",
       "      <td>315.000000</td>\n",
       "    </tr>\n",
       "    <tr>\n",
       "      <th>50%</th>\n",
       "      <td>2.500000</td>\n",
       "      <td>369.000000</td>\n",
       "    </tr>\n",
       "    <tr>\n",
       "      <th>75%</th>\n",
       "      <td>3.600000</td>\n",
       "      <td>429.000000</td>\n",
       "    </tr>\n",
       "    <tr>\n",
       "      <th>max</th>\n",
       "      <td>7.000000</td>\n",
       "      <td>692.000000</td>\n",
       "    </tr>\n",
       "  </tbody>\n",
       "</table>\n",
       "</div>"
      ],
      "text/plain": [
       "             displ          co2\n",
       "count  3929.000000  3929.000000\n",
       "mean      2.950573   376.564266\n",
       "std       1.305901    92.338892\n",
       "min       0.600000    29.000000\n",
       "25%       2.000000   315.000000\n",
       "50%       2.500000   369.000000\n",
       "75%       3.600000   429.000000\n",
       "max       7.000000   692.000000"
      ]
     },
     "execution_count": 7,
     "metadata": {},
     "output_type": "execute_result"
    }
   ],
   "source": [
    "describe = fuel_econ[ [\"displ\",\"co2\"] ].describe()\n",
    "describe"
   ]
  },
  {
   "cell_type": "code",
   "execution_count": 8,
   "metadata": {},
   "outputs": [
    {
     "data": {
      "text/plain": [
       "0.59999999999999998"
      ]
     },
     "execution_count": 8,
     "metadata": {},
     "output_type": "execute_result"
    }
   ],
   "source": [
    "describe.loc[\"min\",\"displ\"]"
   ]
  },
  {
   "cell_type": "code",
   "execution_count": 9,
   "metadata": {},
   "outputs": [
    {
     "data": {
      "text/plain": [
       "(array([ 0. ,  0.4,  0.8,  1.2,  1.6,  2. ,  2.4,  2.8,  3.2,  3.6,  4. ,\n",
       "         4.4,  4.8,  5.2,  5.6,  6. ,  6.4,  6.8,  7.2]),\n",
       " array([   0.,   50.,  100.,  150.,  200.,  250.,  300.,  350.,  400.,\n",
       "         450.,  500.,  550.,  600.,  650.,  700.]))"
      ]
     },
     "execution_count": 9,
     "metadata": {},
     "output_type": "execute_result"
    }
   ],
   "source": [
    "bins_x = np.arange(0, describe.loc[\"max\",\"displ\"]+0.4, 0.4) # np.arange(describe.loc[\"min\",\"displ\"], describe.loc[\"max\",\"displ\"]+0.4, 0.4)\n",
    "bins_y = np.arange(0, describe.loc[\"max\",\"co2\"]+50, 50)\n",
    "bins_x, bins_y"
   ]
  },
  {
   "cell_type": "code",
   "execution_count": 10,
   "metadata": {},
   "outputs": [
    {
     "data": {
      "text/plain": [
       "<matplotlib.colorbar.Colorbar at 0x7f2e7d2c85f8>"
      ]
     },
     "execution_count": 10,
     "metadata": {},
     "output_type": "execute_result"
    },
    {
     "data": {
      "image/png": "[encoded data removed]",
      "text/plain": [
       "<matplotlib.figure.Figure at 0x7f2e7d40ec88>"
      ]
     },
     "metadata": {
      "needs_background": "light"
     },
     "output_type": "display_data"
    }
   ],
   "source": [
    "plt.hist2d(data=fuel_econ,x=\"displ\",y=\"co2\", cmin=1, cmap=\"viridis_r\",bins=[bins_x, bins_y])\n",
    "plt.colorbar()\n",
    "#plt.set_cmap(\"hot\")"
   ]
  },
  {
   "cell_type": "code",
   "execution_count": 11,
   "metadata": {},
   "outputs": [
    {
     "data": {
      "text/plain": [
       "(array([ 0.6,  1. ,  1.4,  1.8,  2.2,  2.6,  3. ,  3.4,  3.8,  4.2,  4.6,\n",
       "         5. ,  5.4,  5.8,  6.2,  6.6,  7. ]),\n",
       " array([   0.,   50.,  100.,  150.,  200.,  250.,  300.,  350.,  400.,\n",
       "         450.,  500.,  550.,  600.,  650.,  700.]))"
      ]
     },
     "execution_count": 11,
     "metadata": {},
     "output_type": "execute_result"
    }
   ],
   "source": [
    "bins_x = np.arange(describe.loc[\"min\",\"displ\"], describe.loc[\"max\",\"displ\"]+0.4, 0.4)\n",
    "bins_y = np.arange(0, describe.loc[\"max\",\"co2\"]+50, 50)\n",
    "bins_x, bins_y"
   ]
  },
  {
   "cell_type": "code",
   "execution_count": 12,
   "metadata": {},
   "outputs": [
    {
     "data": {
      "text/plain": [
       "<matplotlib.colorbar.Colorbar at 0x7f2e7d1ef438>"
      ]
     },
     "execution_count": 12,
     "metadata": {},
     "output_type": "execute_result"
    },
    {
     "data": {
      "image/png": "[encoded data removed]",
      "text/plain": [
       "<matplotlib.figure.Figure at 0x7f2e7d2a3898>"
      ]
     },
     "metadata": {
      "needs_background": "light"
     },
     "output_type": "display_data"
    }
   ],
   "source": [
    "plt.hist2d(data=fuel_econ,x=\"displ\",y=\"co2\", cmin=1, cmap=\"viridis_r\",bins=[bins_x, bins_y])\n",
    "plt.colorbar()"
   ]
  },
  {
   "cell_type": "code",
   "execution_count": null,
   "metadata": {},
   "outputs": [],
   "source": []
  },
  {
   "cell_type": "markdown",
   "metadata": {},
   "source": [
    "### Expected Output"
   ]
  },
  {
   "cell_type": "code",
   "execution_count": 13,
   "metadata": {},
   "outputs": [
    {
     "name": "stdout",
     "output_type": "stream",
     "text": [
      "In the heat map, I've set up a color map that goes from light to dark, and made it so that any cells without count don't get colored in. The visualization shows that most cars fall in a line where larger engine sizes correlate with higher emissions. The trend is somewhat broken by those cars with the lowest emissions, which still have engine sizes shared by most cars (between 1 and 3 liters).\n"
     ]
    },
    {
     "data": {
      "image/png": "[encoded data removed]",
      "text/plain": [
       "<matplotlib.figure.Figure at 0x7f2e7d1b9710>"
      ]
     },
     "metadata": {
      "needs_background": "light"
     },
     "output_type": "display_data"
    }
   ],
   "source": [
    "# run this cell to check your work against ours\n",
    "scatterplot_solution_2()"
   ]
  },
  {
   "cell_type": "code",
   "execution_count": null,
   "metadata": {},
   "outputs": [],
   "source": []
  }
 ],
 "metadata": {
  "kernelspec": {
   "display_name": "Python 3",
   "language": "python",
   "name": "python3"
  },
  "language_info": {
   "codemirror_mode": {
    "name": "ipython",
    "version": 3
   },
   "file_extension": ".py",
   "mimetype": "text/x-python",
   "name": "python",
   "nbconvert_exporter": "python",
   "pygments_lexer": "ipython3",
   "version": "3.6.3"
  }
 },
 "nbformat": 4,
 "nbformat_minor": 2
}
